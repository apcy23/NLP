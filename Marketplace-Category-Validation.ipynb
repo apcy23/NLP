{
 "cells": [
  {
   "attachments": {},
   "cell_type": "markdown",
   "id": "ed321039",
   "metadata": {},
   "source": [
    "# Marketplace Category Validation"
   ]
  },
  {
   "attachments": {},
   "cell_type": "markdown",
   "id": "17ee06d2",
   "metadata": {},
   "source": [
    "    This code is for validating the intrigity of the categories. The input file provided by the marketplace team and the relevant information that are needed for this script are:\n",
    "    1. current_categories\n",
    "    2. new_categories_code\n",
    "    3. new_categories_label\n",
    "    4. name-en_US-CDS\n",
    "    5. name-th_TH-CDS\n",
    "    6. description-en_US-CDS\n",
    "\n",
    "    These mentioned infos will be lemmatized (similar words will be recognized as the same) and tokenized (plural forms of the words will be removed).\n",
    "***\n",
    "    Then, the processed words will be counted to find how many words of the new categories and the current categories / name / description are the same. We can infer from the matching words that if there are many words matched, the new categories tend to be correct, and if there are no matching words, the new categories tend to be incorrect. The matching words are translated into 2 scores.\n",
    "    1. Score 1 = \n",
    "        word match between \"current category\" and \"new category(code/label)\"\n",
    "        + word match between \"product name\" and \"new category(code/label)\"\n",
    "        + word match between \"product description\" and \"new category(code/label)\"\n",
    "    \n",
    "    2. Score 2 = \n",
    "        word match between \"current category\" and \"new category(label)\"\n",
    "        + word match between \"product name\" and \"new category(label)\"\n",
    "        + word match between \"product description\" and \"new category(label)\"\n",
    "\n",
    "    The difference between Score 1 and Score 2 is Score 2 remove new category code from word matching. As a result, Score 2 will be less than or equal to Score 1.\n",
    "    \n",
    "***\n",
    "    The result of this script will be the status of each product (row) which consists of 3 statuses.\n",
    "    1. confident = Score 1 > 0 and Score 2 > 0\n",
    "    2. medium = Score 1 > 0 and Score 2 = 0\n",
    "    3. suspect = Score 1 = 0 and Score 2 = 0\n",
    "    \n",
    "    The status \"confident\" and \"suspect\" are highly accurate however the status \"medium\" is not and need manual verification"
   ]
  },
  {
   "cell_type": "code",
   "execution_count": 23,
   "id": "219a0a80",
   "metadata": {},
   "outputs": [],
   "source": [
    "import pandas as pd\n",
    "import re\n",
    "import os\n",
    "\n",
    "from nltk.stem import WordNetLemmatizer\n",
    "from nltk.stem import PorterStemmer"
   ]
  },
  {
   "cell_type": "code",
   "execution_count": 10,
   "id": "cf1c212a",
   "metadata": {},
   "outputs": [],
   "source": [
    "INPUT_FILE = 'data/taxonomy_merge.xlsx'"
   ]
  },
  {
   "cell_type": "code",
   "execution_count": 11,
   "id": "6c6ad380",
   "metadata": {},
   "outputs": [],
   "source": [
    "## Hard code to add relevant words to the list. If we see words in the left, we will add words in the right.\n",
    "WORD_ADD = {\n",
    "    'footwear': ['shoe'],\n",
    "    'sleepwear': ['pyjama', 'nightdress', 'sleep'],\n",
    "#     'pant': ['short'],\n",
    "    'tumbler': ['bottle'],\n",
    "    'contactlen': ['คอนแทคเลนส์สายตา'],\n",
    "    'contact': ['คอนแทคเลนส์สายตา', 'contactlen'],\n",
    "    'waterheat': ['เครื่องทำน้ำอุ่น'],\n",
    "    'facemask': ['mask', 'หน้ากากผ้า', 'หน้ากากผ้า1pc'],\n",
    "}"
   ]
  },
  {
   "cell_type": "code",
   "execution_count": 12,
   "id": "d3dd87f5",
   "metadata": {},
   "outputs": [],
   "source": [
    "data = pd.read_excel(INPUT_FILE, index_col=0)"
   ]
  },
  {
   "cell_type": "code",
   "execution_count": 13,
   "id": "c671f290",
   "metadata": {
    "scrolled": true
   },
   "outputs": [
    {
     "data": {
      "text/html": [
       "<div>\n",
       "<style scoped>\n",
       "    .dataframe tbody tr th:only-of-type {\n",
       "        vertical-align: middle;\n",
       "    }\n",
       "\n",
       "    .dataframe tbody tr th {\n",
       "        vertical-align: top;\n",
       "    }\n",
       "\n",
       "    .dataframe thead th {\n",
       "        text-align: right;\n",
       "    }\n",
       "</style>\n",
       "<table border=\"1\" class=\"dataframe\">\n",
       "  <thead>\n",
       "    <tr style=\"text-align: right;\">\n",
       "      <th></th>\n",
       "      <th>sku</th>\n",
       "      <th>current_categories</th>\n",
       "      <th>new_categories_code</th>\n",
       "      <th>new_categories_label</th>\n",
       "      <th>Source.Name</th>\n",
       "      <th>brand_name-CDS</th>\n",
       "      <th>content_record_id-CDS</th>\n",
       "      <th>description-en_US-CDS</th>\n",
       "      <th>description-th_TH-CDS</th>\n",
       "      <th>dimension_depth-CDS</th>\n",
       "      <th>...</th>\n",
       "      <th>enable_on_channel-CDS</th>\n",
       "      <th>group_name-CDS</th>\n",
       "      <th>name-en_US-CDS</th>\n",
       "      <th>name-th_TH-CDS</th>\n",
       "      <th>name_common-en_US</th>\n",
       "      <th>name_common-th_TH</th>\n",
       "      <th>package_dimention-en_US-CDS</th>\n",
       "      <th>package_dimention-th_TH-CDS</th>\n",
       "      <th>parent</th>\n",
       "      <th>unit_dimension-CDS</th>\n",
       "    </tr>\n",
       "  </thead>\n",
       "  <tbody>\n",
       "    <tr>\n",
       "      <th>0</th>\n",
       "      <td>CDS10000946</td>\n",
       "      <td>CDS,EOR,EOR_CDS_8,EOR_CDS_8_801,EOR_CDS_8_801_...</td>\n",
       "      <td>electronic_gadgets,home_appliances</td>\n",
       "      <td>Electronic &amp; Gadgets,Home Appliances</td>\n",
       "      <td>1_products_export_grid_context_en_US_CDS_2023-...</td>\n",
       "      <td>FORKITS</td>\n",
       "      <td>taxonomy</td>\n",
       "      <td>&lt;p&gt;&lt;strong&gt;TheForkit’s 20-Speed Hand Blender f...</td>\n",
       "      <td>&lt;p&gt;&lt;strong&gt;เครื่องปั่นมือถืออเนกประสงค์ &lt;span ...</td>\n",
       "      <td>0.0</td>\n",
       "      <td>...</td>\n",
       "      <td>1</td>\n",
       "      <td>เครื่องปั่นมือถืออเนกประสงค์</td>\n",
       "      <td>เครื่องปั่นมือถืออเนกประสงค์</td>\n",
       "      <td>เครื่องปั่นมือถืออเนกประสงค์</td>\n",
       "      <td>เครื่องปั่นมือถืออเนกประสงค์</td>\n",
       "      <td>เครื่องปั่นมือถืออเนกประสงค์</td>\n",
       "      <td>14_5_x_21_5_x_7_5_cm_</td>\n",
       "      <td>14_5_x_21_5_x_7_5_cm_</td>\n",
       "      <td>NaN</td>\n",
       "      <td>NaN</td>\n",
       "    </tr>\n",
       "    <tr>\n",
       "      <th>1</th>\n",
       "      <td>CDS10032282</td>\n",
       "      <td>CDS,EOR,EOR_CDS_9,EOR_CDS_9_904,EOR_CDS_9_904_...</td>\n",
       "      <td>apparel_accessories__clothing</td>\n",
       "      <td>Clothing</td>\n",
       "      <td>1_products_export_grid_context_en_US_CDS_2023-...</td>\n",
       "      <td>NaN</td>\n",
       "      <td>taxonomy</td>\n",
       "      <td>&lt;p&gt; This cap sleeves T-shirt features a sweet ...</td>\n",
       "      <td>&lt;p&gt; เสื้อยืดแขนกุดเด็กหญิ&lt;strong&gt;ง&lt;/strong&gt;&lt;st...</td>\n",
       "      <td>33.0</td>\n",
       "      <td>...</td>\n",
       "      <td>1</td>\n",
       "      <td>NaN</td>\n",
       "      <td>เสื้อยืดแขนกุดพิมพ์ลาย BL 14</td>\n",
       "      <td>เสื้อยืดแขนกุดพิมพ์ลาย BL 14</td>\n",
       "      <td>เสื้อยืดแขนกุดพิมพ์ลาย BL 14</td>\n",
       "      <td>เสื้อยืดแขนกุดพิมพ์ลาย BL 14</td>\n",
       "      <td>14_5_x_21_5_x_7_5_cm_</td>\n",
       "      <td>14_5_x_21_5_x_7_5_cm_</td>\n",
       "      <td>NaN</td>\n",
       "      <td>NaN</td>\n",
       "    </tr>\n",
       "    <tr>\n",
       "      <th>2</th>\n",
       "      <td>CDS10033555</td>\n",
       "      <td>CDS,EOR,EOR_CDS_1,EOR_CDS_1_104,EOR_CDS_1_104_...</td>\n",
       "      <td>beauty,beauty__makeup,makeup__makeup_tools,mak...</td>\n",
       "      <td>Beauty,Makeup,Makeup Tools,Face Brushes,Tools</td>\n",
       "      <td>1_products_export_grid_context_en_US_CDS_2023-...</td>\n",
       "      <td>REAL_TECHNIQUES</td>\n",
       "      <td>taxonomy</td>\n",
       "      <td>&lt;p&gt;&lt;strong&gt;&lt;span class=\"caps\"&gt;REAL&lt;/span&gt; &lt;spa...</td>\n",
       "      <td>&lt;p&gt;&lt;strong&gt;&lt;span class=\"caps\"&gt;REAL&lt;/span&gt; &lt;spa...</td>\n",
       "      <td>0.0</td>\n",
       "      <td>...</td>\n",
       "      <td>1</td>\n",
       "      <td>แปรงรองพื้น 101 Triangle Foundation Brush</td>\n",
       "      <td>แปรงรองพื้น</td>\n",
       "      <td>แปรงรองพื้น</td>\n",
       "      <td>แปรงรองพื้น</td>\n",
       "      <td>แปรงรองพื้น</td>\n",
       "      <td>14_5_x_21_5_x_7_5_cm_</td>\n",
       "      <td>14_5_x_21_5_x_7_5_cm_</td>\n",
       "      <td>NaN</td>\n",
       "      <td>NaN</td>\n",
       "    </tr>\n",
       "    <tr>\n",
       "      <th>3</th>\n",
       "      <td>CDS10033579</td>\n",
       "      <td>CDS,EOR,EOR_CDS_1,EOR_CDS_1_104,EOR_CDS_1_104_...</td>\n",
       "      <td>beauty,beauty__makeup,makeup__makeup_tools,mak...</td>\n",
       "      <td>Beauty,Makeup,Makeup Tools,Face Brushes,Tools</td>\n",
       "      <td>1_products_export_grid_context_en_US_CDS_2023-...</td>\n",
       "      <td>REAL_TECHNIQUES</td>\n",
       "      <td>taxonomy</td>\n",
       "      <td>&lt;p&gt;&lt;strong&gt;&lt;span class=\"caps\"&gt;REAL&lt;/span&gt; &lt;spa...</td>\n",
       "      <td>&lt;p&gt;&lt;strong&gt;&lt;span class=\"caps\"&gt;REAL&lt;/span&gt; &lt;spa...</td>\n",
       "      <td>0.0</td>\n",
       "      <td>...</td>\n",
       "      <td>1</td>\n",
       "      <td>แปรงแต่งห้นา 300 Tapered Brush</td>\n",
       "      <td>300 Tapered Brush</td>\n",
       "      <td>แปรงแต่งห้นา 300 Tapered Brush</td>\n",
       "      <td>300 Tapered Brush</td>\n",
       "      <td>แปรงแต่งห้นา 300 Tapered Brush</td>\n",
       "      <td>14_5_x_21_5_x_7_5_cm_</td>\n",
       "      <td>14_5_x_21_5_x_7_5_cm_</td>\n",
       "      <td>NaN</td>\n",
       "      <td>NaN</td>\n",
       "    </tr>\n",
       "    <tr>\n",
       "      <th>4</th>\n",
       "      <td>CDS10033609</td>\n",
       "      <td>CDS,EOR,EOR_CDS_1,EOR_CDS_1_104,EOR_CDS_1_104_...</td>\n",
       "      <td>beauty,beauty__makeup,makeup__makeup_tools,mak...</td>\n",
       "      <td>Beauty,Makeup,Makeup Tools,Face Brushes</td>\n",
       "      <td>1_products_export_grid_context_en_US_CDS_2023-...</td>\n",
       "      <td>REAL_TECHNIQUES</td>\n",
       "      <td>taxonomy</td>\n",
       "      <td>&lt;p&gt;&lt;strong&gt;&lt;span class=\"caps\"&gt;REAL&lt;/span&gt; &lt;spa...</td>\n",
       "      <td>&lt;p&gt;&lt;strong&gt;&lt;span class=\"caps\"&gt;REAL&lt;/span&gt; &lt;spa...</td>\n",
       "      <td>0.0</td>\n",
       "      <td>...</td>\n",
       "      <td>1</td>\n",
       "      <td>แปรงแต่งหน้า 200 Oval Shadow Brush</td>\n",
       "      <td>200 Oval Shadow Brush</td>\n",
       "      <td>แปรงแต่งหน้า 200 Oval Shadow Brush</td>\n",
       "      <td>200 Oval Shadow Brush</td>\n",
       "      <td>แปรงแต่งหน้า 200 Oval Shadow Brush</td>\n",
       "      <td>14_5_x_21_5_x_7_5_cm_</td>\n",
       "      <td>14_5_x_21_5_x_7_5_cm_</td>\n",
       "      <td>NaN</td>\n",
       "      <td>NaN</td>\n",
       "    </tr>\n",
       "  </tbody>\n",
       "</table>\n",
       "<p>5 rows × 22 columns</p>\n",
       "</div>"
      ],
      "text/plain": [
       "           sku                                 current_categories  \\\n",
       "0  CDS10000946  CDS,EOR,EOR_CDS_8,EOR_CDS_8_801,EOR_CDS_8_801_...   \n",
       "1  CDS10032282  CDS,EOR,EOR_CDS_9,EOR_CDS_9_904,EOR_CDS_9_904_...   \n",
       "2  CDS10033555  CDS,EOR,EOR_CDS_1,EOR_CDS_1_104,EOR_CDS_1_104_...   \n",
       "3  CDS10033579  CDS,EOR,EOR_CDS_1,EOR_CDS_1_104,EOR_CDS_1_104_...   \n",
       "4  CDS10033609  CDS,EOR,EOR_CDS_1,EOR_CDS_1_104,EOR_CDS_1_104_...   \n",
       "\n",
       "                                 new_categories_code  \\\n",
       "0                 electronic_gadgets,home_appliances   \n",
       "1                      apparel_accessories__clothing   \n",
       "2  beauty,beauty__makeup,makeup__makeup_tools,mak...   \n",
       "3  beauty,beauty__makeup,makeup__makeup_tools,mak...   \n",
       "4  beauty,beauty__makeup,makeup__makeup_tools,mak...   \n",
       "\n",
       "                            new_categories_label  \\\n",
       "0           Electronic & Gadgets,Home Appliances   \n",
       "1                                       Clothing   \n",
       "2  Beauty,Makeup,Makeup Tools,Face Brushes,Tools   \n",
       "3  Beauty,Makeup,Makeup Tools,Face Brushes,Tools   \n",
       "4        Beauty,Makeup,Makeup Tools,Face Brushes   \n",
       "\n",
       "                                         Source.Name   brand_name-CDS  \\\n",
       "0  1_products_export_grid_context_en_US_CDS_2023-...          FORKITS   \n",
       "1  1_products_export_grid_context_en_US_CDS_2023-...              NaN   \n",
       "2  1_products_export_grid_context_en_US_CDS_2023-...  REAL_TECHNIQUES   \n",
       "3  1_products_export_grid_context_en_US_CDS_2023-...  REAL_TECHNIQUES   \n",
       "4  1_products_export_grid_context_en_US_CDS_2023-...  REAL_TECHNIQUES   \n",
       "\n",
       "  content_record_id-CDS                              description-en_US-CDS  \\\n",
       "0              taxonomy  <p><strong>TheForkit’s 20-Speed Hand Blender f...   \n",
       "1              taxonomy  <p> This cap sleeves T-shirt features a sweet ...   \n",
       "2              taxonomy  <p><strong><span class=\"caps\">REAL</span> <spa...   \n",
       "3              taxonomy  <p><strong><span class=\"caps\">REAL</span> <spa...   \n",
       "4              taxonomy  <p><strong><span class=\"caps\">REAL</span> <spa...   \n",
       "\n",
       "                               description-th_TH-CDS  dimension_depth-CDS  \\\n",
       "0  <p><strong>เครื่องปั่นมือถืออเนกประสงค์ <span ...                  0.0   \n",
       "1  <p> เสื้อยืดแขนกุดเด็กหญิ<strong>ง</strong><st...                 33.0   \n",
       "2  <p><strong><span class=\"caps\">REAL</span> <spa...                  0.0   \n",
       "3  <p><strong><span class=\"caps\">REAL</span> <spa...                  0.0   \n",
       "4  <p><strong><span class=\"caps\">REAL</span> <spa...                  0.0   \n",
       "\n",
       "   ...  enable_on_channel-CDS                             group_name-CDS  \\\n",
       "0  ...                      1               เครื่องปั่นมือถืออเนกประสงค์   \n",
       "1  ...                      1                                        NaN   \n",
       "2  ...                      1  แปรงรองพื้น 101 Triangle Foundation Brush   \n",
       "3  ...                      1             แปรงแต่งห้นา 300 Tapered Brush   \n",
       "4  ...                      1         แปรงแต่งหน้า 200 Oval Shadow Brush   \n",
       "\n",
       "                 name-en_US-CDS                      name-th_TH-CDS  \\\n",
       "0  เครื่องปั่นมือถืออเนกประสงค์        เครื่องปั่นมือถืออเนกประสงค์   \n",
       "1  เสื้อยืดแขนกุดพิมพ์ลาย BL 14        เสื้อยืดแขนกุดพิมพ์ลาย BL 14   \n",
       "2                   แปรงรองพื้น                         แปรงรองพื้น   \n",
       "3             300 Tapered Brush      แปรงแต่งห้นา 300 Tapered Brush   \n",
       "4         200 Oval Shadow Brush  แปรงแต่งหน้า 200 Oval Shadow Brush   \n",
       "\n",
       "              name_common-en_US                   name_common-th_TH  \\\n",
       "0  เครื่องปั่นมือถืออเนกประสงค์        เครื่องปั่นมือถืออเนกประสงค์   \n",
       "1  เสื้อยืดแขนกุดพิมพ์ลาย BL 14        เสื้อยืดแขนกุดพิมพ์ลาย BL 14   \n",
       "2                   แปรงรองพื้น                         แปรงรองพื้น   \n",
       "3             300 Tapered Brush      แปรงแต่งห้นา 300 Tapered Brush   \n",
       "4         200 Oval Shadow Brush  แปรงแต่งหน้า 200 Oval Shadow Brush   \n",
       "\n",
       "  package_dimention-en_US-CDS package_dimention-th_TH-CDS parent  \\\n",
       "0       14_5_x_21_5_x_7_5_cm_       14_5_x_21_5_x_7_5_cm_    NaN   \n",
       "1       14_5_x_21_5_x_7_5_cm_       14_5_x_21_5_x_7_5_cm_    NaN   \n",
       "2       14_5_x_21_5_x_7_5_cm_       14_5_x_21_5_x_7_5_cm_    NaN   \n",
       "3       14_5_x_21_5_x_7_5_cm_       14_5_x_21_5_x_7_5_cm_    NaN   \n",
       "4       14_5_x_21_5_x_7_5_cm_       14_5_x_21_5_x_7_5_cm_    NaN   \n",
       "\n",
       "  unit_dimension-CDS  \n",
       "0                NaN  \n",
       "1                NaN  \n",
       "2                NaN  \n",
       "3                NaN  \n",
       "4                NaN  \n",
       "\n",
       "[5 rows x 22 columns]"
      ]
     },
     "execution_count": 13,
     "metadata": {},
     "output_type": "execute_result"
    }
   ],
   "source": [
    "data.head()"
   ]
  },
  {
   "cell_type": "code",
   "execution_count": 14,
   "id": "892ddbdd",
   "metadata": {},
   "outputs": [],
   "source": [
    "# lemmatizer to lemmatize the words\n",
    "lemmatizer = WordNetLemmatizer()\n",
    "\n",
    "# stemmer to stem the words\n",
    "ps = PorterStemmer()"
   ]
  },
  {
   "cell_type": "code",
   "execution_count": 15,
   "id": "d66c6170",
   "metadata": {},
   "outputs": [],
   "source": [
    "def tokennize_cat_path(path):\n",
    "    \"\"\" lemmatize and stem categories \n",
    "        path = category in string\n",
    "        output = set of tokens \"\"\"\n",
    "    path = str(path)\n",
    "    words = set(path.replace(',', '//').replace('_', '//').replace('&', '//').replace('  ', '').replace(' ', '').split('//'))\n",
    "    lemmas = [ps.stem(lemmatizer.lemmatize(w)) for w in words if not w.isnumeric() and w != '' and w==w]\n",
    "    for w in lemmas:\n",
    "        if w in WORD_ADD:\n",
    "            lemmas += WORD_ADD[w]\n",
    "    return set(lemmas)\n",
    "\n",
    "def tokennize_product_name(product_name):\n",
    "    \"\"\" lemmatize and stem product name \n",
    "        product_name = product name in string\n",
    "        output = set of tokens \"\"\"\n",
    "    product_name = str(product_name)\n",
    "    words = set(product_name.split(' '))\n",
    "    lemmas = [ps.stem(lemmatizer.lemmatize(w)) for w in words if not w.isnumeric() and w != '' and w==w]\n",
    "    return set(lemmas)\n",
    "\n",
    "def tokenize_description(sentence):\n",
    "    \"\"\" lemmatize and stem product description \n",
    "        sentence = product description\n",
    "        output = set of tokens \"\"\"\n",
    "    sentence = str(sentence)\n",
    "    sentence = re.sub(r'<[^>]*>', ' ', sentence)\n",
    "    sentence = re.sub(r'\\s+', ' ', sentence)\n",
    "    words = set(sentence.split(' '))\n",
    "    lemmas = [ps.stem(lemmatizer.lemmatize(w)) for w in words if not w.isnumeric() and w != '' and w==w]\n",
    "    return set(lemmas)\n",
    "    \n",
    "def matching_score(list1, list2):\n",
    "    \"\"\" calculate the number of words matched between 2 lists \n",
    "        list1, list2 = tokens output from the previous functions\n",
    "        output = matching score \"\"\"\n",
    "    score = 0\n",
    "    for w1 in list1:\n",
    "        for w2 in list2:\n",
    "            if w1==w2:\n",
    "                score += 1\n",
    "    return score"
   ]
  },
  {
   "attachments": {},
   "cell_type": "markdown",
   "id": "d13ebb37",
   "metadata": {},
   "source": [
    "## Lemmatize and tem the words into tokens (list of words)"
   ]
  },
  {
   "cell_type": "code",
   "execution_count": 16,
   "id": "e214258d",
   "metadata": {
    "scrolled": true
   },
   "outputs": [],
   "source": [
    "data['current_cat_token'] = data['current_categories'].apply(tokennize_cat_path)\n",
    "data['new_cat_code_token'] = data['new_categories_code'].apply(tokennize_cat_path)\n",
    "data['new_cat_label_token'] = data['new_categories_label'].apply(tokennize_cat_path)\n",
    "data['name_en_token'] = data['name-en_US-CDS'].apply(tokennize_product_name)\n",
    "data['name_th_token'] = data['name-th_TH-CDS'].apply(tokennize_product_name)\n",
    "data['description_token'] = data['description-en_US-CDS'].apply(tokenize_description)"
   ]
  },
  {
   "cell_type": "code",
   "execution_count": 17,
   "id": "81bb8929",
   "metadata": {
    "scrolled": false
   },
   "outputs": [
    {
     "data": {
      "text/html": [
       "<div>\n",
       "<style scoped>\n",
       "    .dataframe tbody tr th:only-of-type {\n",
       "        vertical-align: middle;\n",
       "    }\n",
       "\n",
       "    .dataframe tbody tr th {\n",
       "        vertical-align: top;\n",
       "    }\n",
       "\n",
       "    .dataframe thead th {\n",
       "        text-align: right;\n",
       "    }\n",
       "</style>\n",
       "<table border=\"1\" class=\"dataframe\">\n",
       "  <thead>\n",
       "    <tr style=\"text-align: right;\">\n",
       "      <th></th>\n",
       "      <th>name_en_token</th>\n",
       "      <th>name_th_token</th>\n",
       "      <th>current_cat_token</th>\n",
       "      <th>new_cat_code_token</th>\n",
       "      <th>new_cat_label_token</th>\n",
       "      <th>description_token</th>\n",
       "    </tr>\n",
       "  </thead>\n",
       "  <tbody>\n",
       "    <tr>\n",
       "      <th>0</th>\n",
       "      <td>{เครื่องปั่นมือถืออเนกประสงค์}</td>\n",
       "      <td>{เครื่องปั่นมือถืออเนกประสงค์}</td>\n",
       "      <td>{eyc, 00001a, cd, sasf, small, eor, cook, appl...</td>\n",
       "      <td>{gadget, home, electron, applianc}</td>\n",
       "      <td>{gadget, electron, homeappli}</td>\n",
       "      <td>{blend, item, hand, motor,, “efficient”, thefo...</td>\n",
       "    </tr>\n",
       "    <tr>\n",
       "      <th>1</th>\n",
       "      <td>{เสื้อยืดแขนกุดพิมพ์ลาย, bl}</td>\n",
       "      <td>{เสื้อยืดแขนกุดพิมพ์ลาย, bl}</td>\n",
       "      <td>{kid, t, eyc, shirt, cd, sasf, eor, tshirt, sw...</td>\n",
       "      <td>{cloth, accessori, apparel}</td>\n",
       "      <td>{cloth}</td>\n",
       "      <td>{cap, item, thi, babi, light, paul, wring,, sh...</td>\n",
       "    </tr>\n",
       "    <tr>\n",
       "      <th>2</th>\n",
       "      <td>{แปรงรองพื้น}</td>\n",
       "      <td>{แปรงรองพื้น}</td>\n",
       "      <td>{face, eyc, makeup, cd, sasf, brush, eor, appl...</td>\n",
       "      <td>{face, person, makeup, brush, care, beauti, tool}</td>\n",
       "      <td>{makeup, makeuptool, facebrush, beauti, tool}</td>\n",
       "      <td>{face, when, item, nose., color,, to, techniqu...</td>\n",
       "    </tr>\n",
       "    <tr>\n",
       "      <th>3</th>\n",
       "      <td>{brush, taper}</td>\n",
       "      <td>{brush, แปรงแต่งห้นา, taper}</td>\n",
       "      <td>{face, eyc, makeup, cd, sasf, brush, eor, appl...</td>\n",
       "      <td>{face, person, makeup, brush, care, beauti, tool}</td>\n",
       "      <td>{makeup, makeuptool, facebrush, beauti, tool}</td>\n",
       "      <td>{แห้งไว, item, color,, techniqu, ทำความสะอาดง่...</td>\n",
       "    </tr>\n",
       "    <tr>\n",
       "      <th>4</th>\n",
       "      <td>{oval, brush, shadow}</td>\n",
       "      <td>{oval, brush, shadow, แปรงแต่งหน้า}</td>\n",
       "      <td>{face, eyc, makeup, cd, sasf, brush, eor, appl...</td>\n",
       "      <td>{face, makeup, brush, beauti, tool}</td>\n",
       "      <td>{facebrush, beauti, makeup, makeuptool}</td>\n",
       "      <td>{when, face, item, oval, color,, to, techniqu,...</td>\n",
       "    </tr>\n",
       "  </tbody>\n",
       "</table>\n",
       "</div>"
      ],
      "text/plain": [
       "                    name_en_token                        name_th_token  \\\n",
       "0  {เครื่องปั่นมือถืออเนกประสงค์}       {เครื่องปั่นมือถืออเนกประสงค์}   \n",
       "1    {เสื้อยืดแขนกุดพิมพ์ลาย, bl}         {เสื้อยืดแขนกุดพิมพ์ลาย, bl}   \n",
       "2                   {แปรงรองพื้น}                        {แปรงรองพื้น}   \n",
       "3                  {brush, taper}         {brush, แปรงแต่งห้นา, taper}   \n",
       "4           {oval, brush, shadow}  {oval, brush, shadow, แปรงแต่งหน้า}   \n",
       "\n",
       "                                   current_cat_token  \\\n",
       "0  {eyc, 00001a, cd, sasf, small, eor, cook, appl...   \n",
       "1  {kid, t, eyc, shirt, cd, sasf, eor, tshirt, sw...   \n",
       "2  {face, eyc, makeup, cd, sasf, brush, eor, appl...   \n",
       "3  {face, eyc, makeup, cd, sasf, brush, eor, appl...   \n",
       "4  {face, eyc, makeup, cd, sasf, brush, eor, appl...   \n",
       "\n",
       "                                  new_cat_code_token  \\\n",
       "0                 {gadget, home, electron, applianc}   \n",
       "1                        {cloth, accessori, apparel}   \n",
       "2  {face, person, makeup, brush, care, beauti, tool}   \n",
       "3  {face, person, makeup, brush, care, beauti, tool}   \n",
       "4                {face, makeup, brush, beauti, tool}   \n",
       "\n",
       "                             new_cat_label_token  \\\n",
       "0                  {gadget, electron, homeappli}   \n",
       "1                                        {cloth}   \n",
       "2  {makeup, makeuptool, facebrush, beauti, tool}   \n",
       "3  {makeup, makeuptool, facebrush, beauti, tool}   \n",
       "4        {facebrush, beauti, makeup, makeuptool}   \n",
       "\n",
       "                                   description_token  \n",
       "0  {blend, item, hand, motor,, “efficient”, thefo...  \n",
       "1  {cap, item, thi, babi, light, paul, wring,, sh...  \n",
       "2  {face, when, item, nose., color,, to, techniqu...  \n",
       "3  {แห้งไว, item, color,, techniqu, ทำความสะอาดง่...  \n",
       "4  {when, face, item, oval, color,, to, techniqu,...  "
      ]
     },
     "execution_count": 17,
     "metadata": {},
     "output_type": "execute_result"
    }
   ],
   "source": [
    "data[['name_en_token', 'name_th_token', 'current_cat_token', 'new_cat_code_token', 'new_cat_label_token', 'description_token']].head(5)"
   ]
  },
  {
   "attachments": {},
   "cell_type": "markdown",
   "id": "580587ab",
   "metadata": {},
   "source": [
    "## Calculate the matching scores"
   ]
  },
  {
   "cell_type": "code",
   "execution_count": 18,
   "id": "aae22714",
   "metadata": {},
   "outputs": [],
   "source": [
    "# current cats vs new cats\n",
    "data['score_current_new_code'] = data.apply(lambda row: matching_score(row['current_cat_token'], row['new_cat_code_token']), axis=1)\n",
    "data['score_current_new_label'] = data.apply(lambda row: matching_score(row['current_cat_token'], row['new_cat_label_token']), axis=1)\n",
    "\n",
    "# current product name (Eng) vs new cats\n",
    "data['score_name_new_code'] = data.apply(lambda row: matching_score(row['name_en_token'], row['new_cat_code_token']), axis=1)\n",
    "data['score_name_new_label'] = data.apply(lambda row: matching_score(row['name_en_token'], row['new_cat_label_token']), axis=1)\n",
    "\n",
    "# current product name (TH) vs new cats\n",
    "data['score_name_th_new_code'] = data.apply(lambda row: matching_score(row['name_th_token'], row['new_cat_code_token']), axis=1)\n",
    "data['score_name_th_new_label'] = data.apply(lambda row: matching_score(row['name_th_token'], row['new_cat_label_token']), axis=1)\n",
    "\n",
    "# current product description (Eng) vs new cats\n",
    "data['score_description_new_code'] = data.apply(lambda row: matching_score(row['description_token'], row['new_cat_code_token']), axis=1)\n",
    "data['score_description_new_label'] = data.apply(lambda row: matching_score(row['description_token'], row['new_cat_label_token']), axis=1)"
   ]
  },
  {
   "cell_type": "code",
   "execution_count": null,
   "id": "8ece7dff",
   "metadata": {},
   "outputs": [],
   "source": []
  },
  {
   "attachments": {},
   "cell_type": "markdown",
   "id": "7d1f62a2",
   "metadata": {},
   "source": [
    "## Calculate Score 1 and Score 2"
   ]
  },
  {
   "cell_type": "code",
   "execution_count": 19,
   "id": "2e3d92c4",
   "metadata": {},
   "outputs": [],
   "source": [
    "SUM_COLS1 = [\n",
    "    'score_current_new_code', \n",
    "    'score_current_new_label', \n",
    "    'score_name_new_code', \n",
    "    'score_name_new_label', \n",
    "    'score_description_new_code', \n",
    "    'score_description_new_label',\n",
    "    'score_name_th_new_code', \n",
    "    'score_name_th_new_label'\n",
    "]\n",
    "\n",
    "SUM_COLS2 = [\n",
    "    'score_current_new_label', \n",
    "    'score_name_new_label', \n",
    "    'score_description_new_label',\n",
    "    'score_name_th_new_label',\n",
    "    \n",
    "]\n"
   ]
  },
  {
   "cell_type": "code",
   "execution_count": 20,
   "id": "1a3b3441",
   "metadata": {},
   "outputs": [],
   "source": [
    "data['total_score1'] = data[SUM_COLS1].sum(axis=1)\n",
    "data['total_score2'] = data[SUM_COLS2].sum(axis=1)"
   ]
  },
  {
   "cell_type": "code",
   "execution_count": null,
   "id": "fe1217f2",
   "metadata": {},
   "outputs": [],
   "source": []
  },
  {
   "attachments": {},
   "cell_type": "markdown",
   "id": "71dbd70e",
   "metadata": {},
   "source": [
    "## Define Status (Confident / Medium / Suspect)"
   ]
  },
  {
   "cell_type": "code",
   "execution_count": 21,
   "id": "5c4cc970",
   "metadata": {
    "scrolled": true
   },
   "outputs": [],
   "source": [
    "def _classify_cat(t1,t2):\n",
    "    if t1==0:\n",
    "        return 'suspect'\n",
    "    elif t2==0:\n",
    "        return 'medium'\n",
    "    else:\n",
    "        return 'confident'\n",
    "    \n",
    "data['status'] = data.apply(lambda row: _classify_cat(row['total_score1'], row['total_score2']), axis=1)"
   ]
  },
  {
   "cell_type": "code",
   "execution_count": null,
   "id": "323f6c07",
   "metadata": {},
   "outputs": [],
   "source": []
  },
  {
   "attachments": {},
   "cell_type": "markdown",
   "id": "c4b1cfb4",
   "metadata": {},
   "source": [
    "## Save output"
   ]
  },
  {
   "cell_type": "code",
   "execution_count": 24,
   "id": "bb120442",
   "metadata": {},
   "outputs": [],
   "source": [
    "OUTPUT_PATH = r'output/' \n",
    "if not os.path.exists(OUTPUT_PATH):\n",
    "    os.makedirs(OUTPUT_PATH)"
   ]
  },
  {
   "cell_type": "code",
   "execution_count": 25,
   "id": "9d6ed4f3",
   "metadata": {},
   "outputs": [],
   "source": [
    "out_cols = ['sku', \n",
    "            'current_categories', \n",
    "            'new_categories_code',\n",
    "           'new_categories_label', \n",
    "#             'Source.Name', \n",
    "            'brand_name-CDS',\n",
    "#             'content_record_id-CDS', \n",
    "            'description-en_US-CDS',\n",
    "#        'description-th_TH-CDS', 'dimension_depth-CDS', 'dimension_height-CDS',\n",
    "#        'dimension_width-CDS', 'enable_on_channel-CDS', \n",
    "            'group_name-CDS',\n",
    "       'name-en_US-CDS', 'name-th_TH-CDS', 'name_common-en_US',\n",
    "       'name_common-th_TH', 'package_dimention-en_US-CDS',\n",
    "       'package_dimention-th_TH-CDS', 'parent', 'unit_dimension-CDS', 'status']"
   ]
  },
  {
   "cell_type": "code",
   "execution_count": 26,
   "id": "17103ad8",
   "metadata": {},
   "outputs": [],
   "source": [
    "data[out_cols].to_csv(OUTPUT_PATH + 'full_result.csv', encoding='utf-8-sig')"
   ]
  },
  {
   "cell_type": "code",
   "execution_count": 27,
   "id": "33689bdf",
   "metadata": {},
   "outputs": [],
   "source": [
    "data[data['status']=='suspect'].to_csv(OUTPUT_PATH + 'suspect.csv', encoding='utf-8-sig')\n",
    "data[data['status']=='medium'].to_csv(OUTPUT_PATH + 'medium.csv', encoding='utf-8-sig')\n",
    "data[data['status']=='confident'].to_csv(OUTPUT_PATH + 'confident.csv', encoding='utf-8-sig')"
   ]
  },
  {
   "cell_type": "code",
   "execution_count": null,
   "id": "5a918afc",
   "metadata": {},
   "outputs": [],
   "source": []
  },
  {
   "attachments": {},
   "cell_type": "markdown",
   "id": "9a6d7ba9",
   "metadata": {},
   "source": [
    "## Analysis results"
   ]
  },
  {
   "cell_type": "code",
   "execution_count": 28,
   "id": "37506d1e",
   "metadata": {},
   "outputs": [
    {
     "name": "stdout",
     "output_type": "stream",
     "text": [
      "Total number of data 233842\n"
     ]
    }
   ],
   "source": [
    "print('Total number of data', data.shape[0])"
   ]
  },
  {
   "cell_type": "code",
   "execution_count": 29,
   "id": "dfd304bc",
   "metadata": {},
   "outputs": [
    {
     "name": "stdout",
     "output_type": "stream",
     "text": [
      "The number of each status\n"
     ]
    },
    {
     "data": {
      "text/plain": [
       "confident    215409\n",
       "suspect       13362\n",
       "medium         5071\n",
       "Name: status, dtype: int64"
      ]
     },
     "execution_count": 29,
     "metadata": {},
     "output_type": "execute_result"
    }
   ],
   "source": [
    "print('The number of each status')\n",
    "data['status'].value_counts()"
   ]
  },
  {
   "cell_type": "code",
   "execution_count": 30,
   "id": "ff97cc34",
   "metadata": {},
   "outputs": [
    {
     "name": "stdout",
     "output_type": "stream",
     "text": [
      "The number of each status (%)\n"
     ]
    },
    {
     "data": {
      "text/plain": [
       "confident    0.921173\n",
       "suspect      0.057141\n",
       "medium       0.021686\n",
       "Name: status, dtype: float64"
      ]
     },
     "execution_count": 30,
     "metadata": {},
     "output_type": "execute_result"
    }
   ],
   "source": [
    "print('The number of each status (%)')\n",
    "data['status'].value_counts() / data.shape[0]"
   ]
  },
  {
   "cell_type": "code",
   "execution_count": null,
   "id": "aec4e1c1",
   "metadata": {},
   "outputs": [],
   "source": []
  },
  {
   "cell_type": "code",
   "execution_count": null,
   "id": "e491f011",
   "metadata": {},
   "outputs": [],
   "source": []
  },
  {
   "cell_type": "code",
   "execution_count": null,
   "id": "2a3c94ee",
   "metadata": {},
   "outputs": [],
   "source": []
  },
  {
   "cell_type": "code",
   "execution_count": null,
   "id": "f68f0322",
   "metadata": {},
   "outputs": [],
   "source": []
  },
  {
   "cell_type": "code",
   "execution_count": null,
   "id": "91a6bf4f",
   "metadata": {},
   "outputs": [],
   "source": []
  },
  {
   "cell_type": "code",
   "execution_count": null,
   "id": "22d17216",
   "metadata": {},
   "outputs": [],
   "source": []
  }
 ],
 "metadata": {
  "kernelspec": {
   "display_name": "Python 3 (ipykernel)",
   "language": "python",
   "name": "python3"
  },
  "language_info": {
   "codemirror_mode": {
    "name": "ipython",
    "version": 3
   },
   "file_extension": ".py",
   "mimetype": "text/x-python",
   "name": "python",
   "nbconvert_exporter": "python",
   "pygments_lexer": "ipython3",
   "version": "3.11.2"
  }
 },
 "nbformat": 4,
 "nbformat_minor": 5
}
